{
 "cells": [
  {
   "cell_type": "markdown",
   "id": "4a1bf8c8",
   "metadata": {},
   "source": [
    "# EDA Project \n",
    "## This analysis is done on the Registered Companies In India.\n",
    "## AIM:\n",
    "### 1: Which state has maximum number of registered compaines.\n",
    "### 2: Which state has least number of registered companies.\n",
    "### 3: Total authorized capital of companies in each state.\n",
    "### 4: Types of companies registered in each state.\n",
    "### 5: What class of companies are registered in each state.\n",
    "### 6: Number of profit making companies.\n",
    "### 7: Annual Return same class of companies.\n",
    "### 8: Same class companies annual return state wise.\n",
    "### 9: Which state is best suited for which class of company.\n",
    "### 10: Growth of education sector compared to other."
   ]
  },
  {
   "cell_type": "markdown",
   "id": "a074751e",
   "metadata": {},
   "source": [
    "#### Importing the Libraries"
   ]
  },
  {
   "cell_type": "code",
   "execution_count": 1,
   "id": "76eb17e0",
   "metadata": {},
   "outputs": [],
   "source": [
    "import pandas as pd\n",
    "import numpy as np\n",
    "import matplotlib.pyplot as plt"
   ]
  },
  {
   "cell_type": "markdown",
   "id": "96285395",
   "metadata": {},
   "source": [
    "#### Importing the dataset."
   ]
  },
  {
   "cell_type": "code",
   "execution_count": 2,
   "id": "5918a872",
   "metadata": {},
   "outputs": [
    {
     "name": "stderr",
     "output_type": "stream",
     "text": [
      "C:\\Users\\DELL\\AppData\\Roaming\\Python\\Python39\\site-packages\\IPython\\core\\interactiveshell.py:3378: DtypeWarning: Columns (10) have mixed types.Specify dtype option on import or set low_memory=False.\n",
      "  exec(code_obj, self.user_global_ns, self.user_ns)\n"
     ]
    }
   ],
   "source": [
    "df=pd.read_csv(\"registered_companies.csv\")"
   ]
  },
  {
   "cell_type": "markdown",
   "id": "0a369487",
   "metadata": {},
   "source": [
    "#### Taking a look at the dataset and for number of rows, column, what are the columns."
   ]
  },
  {
   "cell_type": "code",
   "execution_count": 3,
   "id": "fb9a9b06",
   "metadata": {
    "scrolled": true
   },
   "outputs": [
    {
     "data": {
      "text/html": [
       "<div>\n",
       "<style scoped>\n",
       "    .dataframe tbody tr th:only-of-type {\n",
       "        vertical-align: middle;\n",
       "    }\n",
       "\n",
       "    .dataframe tbody tr th {\n",
       "        vertical-align: top;\n",
       "    }\n",
       "\n",
       "    .dataframe thead th {\n",
       "        text-align: right;\n",
       "    }\n",
       "</style>\n",
       "<table border=\"1\" class=\"dataframe\">\n",
       "  <thead>\n",
       "    <tr style=\"text-align: right;\">\n",
       "      <th></th>\n",
       "      <th>CORPORATE_IDENTIFICATION_NUMBER</th>\n",
       "      <th>COMPANY_NAME</th>\n",
       "      <th>COMPANY_STATUS</th>\n",
       "      <th>COMPANY_CLASS</th>\n",
       "      <th>COMPANY_CATEGORY</th>\n",
       "      <th>COMPANY_SUB_CATEGORY</th>\n",
       "      <th>DATE_OF_REGISTRATION</th>\n",
       "      <th>REGISTERED_STATE</th>\n",
       "      <th>AUTHORIZED_CAP</th>\n",
       "      <th>PAIDUP_CAPITAL</th>\n",
       "      <th>INDUSTRIAL_CLASS</th>\n",
       "      <th>PRINCIPAL_BUSINESS_ACTIVITY_AS_PER_CIN</th>\n",
       "      <th>REGISTERED_OFFICE_ADDRESS</th>\n",
       "      <th>REGISTRAR_OF_COMPANIES</th>\n",
       "      <th>EMAIL_ADDR</th>\n",
       "      <th>LATEST_YEAR_ANNUAL_RETURN</th>\n",
       "      <th>LATEST_YEAR_FINANCIAL_STATEMENT</th>\n",
       "    </tr>\n",
       "  </thead>\n",
       "  <tbody>\n",
       "    <tr>\n",
       "      <th>0</th>\n",
       "      <td>F01450</td>\n",
       "      <td>NIKO RESOURCES LIMITED</td>\n",
       "      <td>ACTV</td>\n",
       "      <td>NaN</td>\n",
       "      <td>NaN</td>\n",
       "      <td>NaN</td>\n",
       "      <td>NaN</td>\n",
       "      <td>Gujarat</td>\n",
       "      <td>0.0</td>\n",
       "      <td>0.0</td>\n",
       "      <td>NaN</td>\n",
       "      <td>Agriculture &amp; allied</td>\n",
       "      <td>4TH FLOOR,LANDMARKRACE COURSE</td>\n",
       "      <td>ROC DELHI</td>\n",
       "      <td>SANJAY@NIKOINDIA.COM</td>\n",
       "      <td>NaN</td>\n",
       "      <td>NaN</td>\n",
       "    </tr>\n",
       "    <tr>\n",
       "      <th>1</th>\n",
       "      <td>F01518</td>\n",
       "      <td>WORLDWIDE RESOURCES HOLDINGS LTD</td>\n",
       "      <td>ACTV</td>\n",
       "      <td>NaN</td>\n",
       "      <td>NaN</td>\n",
       "      <td>NaN</td>\n",
       "      <td>16-07-1998</td>\n",
       "      <td>Gujarat</td>\n",
       "      <td>0.0</td>\n",
       "      <td>0.0</td>\n",
       "      <td>NaN</td>\n",
       "      <td>Agriculture &amp; allied</td>\n",
       "      <td>403 3 6 322 MAHAVIR HOUSEBUSHEER BAGH HYDERGUD...</td>\n",
       "      <td>ROC DELHI</td>\n",
       "      <td>NaN</td>\n",
       "      <td>NaN</td>\n",
       "      <td>NaN</td>\n",
       "    </tr>\n",
       "    <tr>\n",
       "      <th>2</th>\n",
       "      <td>F01573</td>\n",
       "      <td>ATWOOD OCEANIC PACIFIC LIMITED</td>\n",
       "      <td>ACTV</td>\n",
       "      <td>NaN</td>\n",
       "      <td>NaN</td>\n",
       "      <td>NaN</td>\n",
       "      <td>NaN</td>\n",
       "      <td>Gujarat</td>\n",
       "      <td>0.0</td>\n",
       "      <td>0.0</td>\n",
       "      <td>NaN</td>\n",
       "      <td>Agriculture &amp; allied</td>\n",
       "      <td>Quadrant 1, Plot Number 18, 2nd FloorSuman Tow...</td>\n",
       "      <td>ROC DELHI</td>\n",
       "      <td>info@nangia.com</td>\n",
       "      <td>NaN</td>\n",
       "      <td>NaN</td>\n",
       "    </tr>\n",
       "    <tr>\n",
       "      <th>3</th>\n",
       "      <td>F01802</td>\n",
       "      <td>SOLVAY S A BELGIUM</td>\n",
       "      <td>NAEF</td>\n",
       "      <td>NaN</td>\n",
       "      <td>NaN</td>\n",
       "      <td>NaN</td>\n",
       "      <td>25-06-2001</td>\n",
       "      <td>Gujarat</td>\n",
       "      <td>0.0</td>\n",
       "      <td>0.0</td>\n",
       "      <td>NaN</td>\n",
       "      <td>Agriculture &amp; allied</td>\n",
       "      <td>Plot No. 3526 &amp; 3527,GIDC Industrial Estate,</td>\n",
       "      <td>ROC DELHI</td>\n",
       "      <td>amit.kumashi@solvay.com</td>\n",
       "      <td>NaN</td>\n",
       "      <td>NaN</td>\n",
       "    </tr>\n",
       "    <tr>\n",
       "      <th>4</th>\n",
       "      <td>F01818</td>\n",
       "      <td>TATE AND LYLE INDUSTRIES LTD</td>\n",
       "      <td>ACTV</td>\n",
       "      <td>NaN</td>\n",
       "      <td>NaN</td>\n",
       "      <td>NaN</td>\n",
       "      <td>25-07-2001</td>\n",
       "      <td>Gujarat</td>\n",
       "      <td>0.0</td>\n",
       "      <td>0.0</td>\n",
       "      <td>NaN</td>\n",
       "      <td>Agriculture &amp; allied</td>\n",
       "      <td>24 ATMAJYOTI NAGARELLORA PARK</td>\n",
       "      <td>ROC DELHI</td>\n",
       "      <td>NaN</td>\n",
       "      <td>NaN</td>\n",
       "      <td>NaN</td>\n",
       "    </tr>\n",
       "    <tr>\n",
       "      <th>...</th>\n",
       "      <td>...</td>\n",
       "      <td>...</td>\n",
       "      <td>...</td>\n",
       "      <td>...</td>\n",
       "      <td>...</td>\n",
       "      <td>...</td>\n",
       "      <td>...</td>\n",
       "      <td>...</td>\n",
       "      <td>...</td>\n",
       "      <td>...</td>\n",
       "      <td>...</td>\n",
       "      <td>...</td>\n",
       "      <td>...</td>\n",
       "      <td>...</td>\n",
       "      <td>...</td>\n",
       "      <td>...</td>\n",
       "      <td>...</td>\n",
       "    </tr>\n",
       "    <tr>\n",
       "      <th>1992165</th>\n",
       "      <td>U51109NL2000PTC006232</td>\n",
       "      <td>SCIENTIFIC ADVANCE INSTRUMENTS &amp; EQUIPMENTS CO...</td>\n",
       "      <td>STOF</td>\n",
       "      <td>Private</td>\n",
       "      <td>Company limited by Shares</td>\n",
       "      <td>Non-govt company</td>\n",
       "      <td>30-06-2000</td>\n",
       "      <td>Nagaland</td>\n",
       "      <td>1000000.0</td>\n",
       "      <td>20000.0</td>\n",
       "      <td>51109.0</td>\n",
       "      <td>Wholesale and retail trade repair of motor veh...</td>\n",
       "      <td>BEHIND TOWN COMMITTEE,MKALABARI ROAD</td>\n",
       "      <td>ROC SHILLONG</td>\n",
       "      <td>NaN</td>\n",
       "      <td>NaN</td>\n",
       "      <td>NaN</td>\n",
       "    </tr>\n",
       "    <tr>\n",
       "      <th>1992166</th>\n",
       "      <td>U51109NL2000PTC006233</td>\n",
       "      <td>SUNSHINE INSTRUMENTS &amp; EQUIPMENTS COMPANY PRIV...</td>\n",
       "      <td>STOF</td>\n",
       "      <td>Private</td>\n",
       "      <td>Company limited by Shares</td>\n",
       "      <td>Non-govt company</td>\n",
       "      <td>30-06-2000</td>\n",
       "      <td>Nagaland</td>\n",
       "      <td>1000000.0</td>\n",
       "      <td>200000.0</td>\n",
       "      <td>51109.0</td>\n",
       "      <td>Wholesale and retail trade repair of motor veh...</td>\n",
       "      <td>JAIN TEMPLE ROADDIMAPUR</td>\n",
       "      <td>ROC SHILLONG</td>\n",
       "      <td>NaN</td>\n",
       "      <td>NaN</td>\n",
       "      <td>NaN</td>\n",
       "    </tr>\n",
       "    <tr>\n",
       "      <th>1992167</th>\n",
       "      <td>U51109NL2000PTC006259</td>\n",
       "      <td>STERN (INDIA) PLANTATION &amp; MARKETING PRIVATE L...</td>\n",
       "      <td>STOF</td>\n",
       "      <td>Private</td>\n",
       "      <td>Company limited by Shares</td>\n",
       "      <td>Non-govt company</td>\n",
       "      <td>25-07-2000</td>\n",
       "      <td>Nagaland</td>\n",
       "      <td>200000.0</td>\n",
       "      <td>3000.0</td>\n",
       "      <td>51109.0</td>\n",
       "      <td>Wholesale and retail trade repair of motor veh...</td>\n",
       "      <td>RENGMA CHURCH BUILDINGKHERMAHALDIMAPUR</td>\n",
       "      <td>ROC SHILLONG</td>\n",
       "      <td>NaN</td>\n",
       "      <td>NaN</td>\n",
       "      <td>NaN</td>\n",
       "    </tr>\n",
       "    <tr>\n",
       "      <th>1992168</th>\n",
       "      <td>U74950NL1998PTC005463</td>\n",
       "      <td>T.A. NGULLIE FRUIT PRODUCTS PVT LTD.</td>\n",
       "      <td>STOF</td>\n",
       "      <td>Private</td>\n",
       "      <td>Company limited by Shares</td>\n",
       "      <td>Non-govt company</td>\n",
       "      <td>09-07-1998</td>\n",
       "      <td>Nagaland</td>\n",
       "      <td>2500000.0</td>\n",
       "      <td>0.0</td>\n",
       "      <td>74950.0</td>\n",
       "      <td>Real estate renting and business activities</td>\n",
       "      <td>CHUMUKEDIME,BLOCK-3, DIST.KOHIMA.</td>\n",
       "      <td>ROC SHILLONG</td>\n",
       "      <td>rks97cs@yahoo.com</td>\n",
       "      <td>NaN</td>\n",
       "      <td>NaN</td>\n",
       "    </tr>\n",
       "    <tr>\n",
       "      <th>1992169</th>\n",
       "      <td>U74990NL2016PTC008397</td>\n",
       "      <td>NAGA MART PRIVATE LIMITED</td>\n",
       "      <td>ACTV</td>\n",
       "      <td>Private</td>\n",
       "      <td>Company limited by Shares</td>\n",
       "      <td>Non-govt company</td>\n",
       "      <td>29-02-2016</td>\n",
       "      <td>Nagaland</td>\n",
       "      <td>500000.0</td>\n",
       "      <td>100000.0</td>\n",
       "      <td>74990.0</td>\n",
       "      <td>Real estate renting and business activities</td>\n",
       "      <td>T.K Angami Complex,</td>\n",
       "      <td>ROC SHILLONG</td>\n",
       "      <td>narolamongkum@gmail.com</td>\n",
       "      <td>31-03-2019</td>\n",
       "      <td>31-03-2019</td>\n",
       "    </tr>\n",
       "  </tbody>\n",
       "</table>\n",
       "<p>1992170 rows × 17 columns</p>\n",
       "</div>"
      ],
      "text/plain": [
       "        CORPORATE_IDENTIFICATION_NUMBER  \\\n",
       "0                                F01450   \n",
       "1                                F01518   \n",
       "2                                F01573   \n",
       "3                                F01802   \n",
       "4                                F01818   \n",
       "...                                 ...   \n",
       "1992165           U51109NL2000PTC006232   \n",
       "1992166           U51109NL2000PTC006233   \n",
       "1992167           U51109NL2000PTC006259   \n",
       "1992168           U74950NL1998PTC005463   \n",
       "1992169           U74990NL2016PTC008397   \n",
       "\n",
       "                                              COMPANY_NAME COMPANY_STATUS  \\\n",
       "0                                NIKO RESOURCES LIMITED              ACTV   \n",
       "1                      WORLDWIDE RESOURCES HOLDINGS LTD              ACTV   \n",
       "2                        ATWOOD OCEANIC PACIFIC LIMITED              ACTV   \n",
       "3                                    SOLVAY S A BELGIUM              NAEF   \n",
       "4                          TATE AND LYLE INDUSTRIES LTD              ACTV   \n",
       "...                                                    ...            ...   \n",
       "1992165  SCIENTIFIC ADVANCE INSTRUMENTS & EQUIPMENTS CO...           STOF   \n",
       "1992166  SUNSHINE INSTRUMENTS & EQUIPMENTS COMPANY PRIV...           STOF   \n",
       "1992167  STERN (INDIA) PLANTATION & MARKETING PRIVATE L...           STOF   \n",
       "1992168            T.A. NGULLIE FRUIT PRODUCTS PVT LTD.              STOF   \n",
       "1992169                       NAGA MART PRIVATE LIMITED              ACTV   \n",
       "\n",
       "        COMPANY_CLASS           COMPANY_CATEGORY COMPANY_SUB_CATEGORY  \\\n",
       "0                 NaN                        NaN                  NaN   \n",
       "1                 NaN                        NaN                  NaN   \n",
       "2                 NaN                        NaN                  NaN   \n",
       "3                 NaN                        NaN                  NaN   \n",
       "4                 NaN                        NaN                  NaN   \n",
       "...               ...                        ...                  ...   \n",
       "1992165       Private  Company limited by Shares     Non-govt company   \n",
       "1992166       Private  Company limited by Shares     Non-govt company   \n",
       "1992167       Private  Company limited by Shares     Non-govt company   \n",
       "1992168       Private  Company limited by Shares     Non-govt company   \n",
       "1992169       Private  Company limited by Shares     Non-govt company   \n",
       "\n",
       "        DATE_OF_REGISTRATION REGISTERED_STATE  AUTHORIZED_CAP  PAIDUP_CAPITAL  \\\n",
       "0                        NaN          Gujarat             0.0             0.0   \n",
       "1                 16-07-1998          Gujarat             0.0             0.0   \n",
       "2                        NaN          Gujarat             0.0             0.0   \n",
       "3                 25-06-2001          Gujarat             0.0             0.0   \n",
       "4                 25-07-2001          Gujarat             0.0             0.0   \n",
       "...                      ...              ...             ...             ...   \n",
       "1992165           30-06-2000         Nagaland       1000000.0         20000.0   \n",
       "1992166           30-06-2000         Nagaland       1000000.0        200000.0   \n",
       "1992167           25-07-2000         Nagaland        200000.0          3000.0   \n",
       "1992168           09-07-1998         Nagaland       2500000.0             0.0   \n",
       "1992169           29-02-2016         Nagaland        500000.0        100000.0   \n",
       "\n",
       "        INDUSTRIAL_CLASS             PRINCIPAL_BUSINESS_ACTIVITY_AS_PER_CIN  \\\n",
       "0                    NaN                               Agriculture & allied   \n",
       "1                    NaN                               Agriculture & allied   \n",
       "2                    NaN                               Agriculture & allied   \n",
       "3                    NaN                               Agriculture & allied   \n",
       "4                    NaN                               Agriculture & allied   \n",
       "...                  ...                                                ...   \n",
       "1992165          51109.0  Wholesale and retail trade repair of motor veh...   \n",
       "1992166          51109.0  Wholesale and retail trade repair of motor veh...   \n",
       "1992167          51109.0  Wholesale and retail trade repair of motor veh...   \n",
       "1992168          74950.0        Real estate renting and business activities   \n",
       "1992169          74990.0        Real estate renting and business activities   \n",
       "\n",
       "                                 REGISTERED_OFFICE_ADDRESS  \\\n",
       "0                          4TH FLOOR,LANDMARKRACE COURSE     \n",
       "1        403 3 6 322 MAHAVIR HOUSEBUSHEER BAGH HYDERGUD...   \n",
       "2        Quadrant 1, Plot Number 18, 2nd FloorSuman Tow...   \n",
       "3           Plot No. 3526 & 3527,GIDC Industrial Estate,     \n",
       "4                          24 ATMAJYOTI NAGARELLORA PARK     \n",
       "...                                                    ...   \n",
       "1992165             BEHIND TOWN COMMITTEE,MKALABARI ROAD     \n",
       "1992166                         JAIN TEMPLE ROADDIMAPUR      \n",
       "1992167           RENGMA CHURCH BUILDINGKHERMAHALDIMAPUR     \n",
       "1992168                CHUMUKEDIME,BLOCK-3, DIST.KOHIMA.     \n",
       "1992169                             T.K Angami Complex,      \n",
       "\n",
       "        REGISTRAR_OF_COMPANIES               EMAIL_ADDR  \\\n",
       "0                    ROC DELHI     SANJAY@NIKOINDIA.COM   \n",
       "1                    ROC DELHI                      NaN   \n",
       "2                    ROC DELHI          info@nangia.com   \n",
       "3                    ROC DELHI  amit.kumashi@solvay.com   \n",
       "4                    ROC DELHI                      NaN   \n",
       "...                        ...                      ...   \n",
       "1992165           ROC SHILLONG                      NaN   \n",
       "1992166           ROC SHILLONG                      NaN   \n",
       "1992167           ROC SHILLONG                      NaN   \n",
       "1992168           ROC SHILLONG        rks97cs@yahoo.com   \n",
       "1992169           ROC SHILLONG  narolamongkum@gmail.com   \n",
       "\n",
       "        LATEST_YEAR_ANNUAL_RETURN LATEST_YEAR_FINANCIAL_STATEMENT  \n",
       "0                             NaN                             NaN  \n",
       "1                             NaN                             NaN  \n",
       "2                             NaN                             NaN  \n",
       "3                             NaN                             NaN  \n",
       "4                             NaN                             NaN  \n",
       "...                           ...                             ...  \n",
       "1992165                       NaN                             NaN  \n",
       "1992166                       NaN                             NaN  \n",
       "1992167                       NaN                             NaN  \n",
       "1992168                       NaN                             NaN  \n",
       "1992169                31-03-2019                      31-03-2019  \n",
       "\n",
       "[1992170 rows x 17 columns]"
      ]
     },
     "execution_count": 3,
     "metadata": {},
     "output_type": "execute_result"
    }
   ],
   "source": [
    "df"
   ]
  },
  {
   "cell_type": "code",
   "execution_count": 4,
   "id": "50fe4ebb",
   "metadata": {},
   "outputs": [
    {
     "data": {
      "text/plain": [
       "(1992170, 17)"
      ]
     },
     "execution_count": 4,
     "metadata": {},
     "output_type": "execute_result"
    }
   ],
   "source": [
    "df.shape"
   ]
  },
  {
   "cell_type": "code",
   "execution_count": 5,
   "id": "7dc6551c",
   "metadata": {},
   "outputs": [
    {
     "name": "stdout",
     "output_type": "stream",
     "text": [
      "<class 'pandas.core.frame.DataFrame'>\n",
      "RangeIndex: 1992170 entries, 0 to 1992169\n",
      "Data columns (total 17 columns):\n",
      " #   Column                                  Dtype  \n",
      "---  ------                                  -----  \n",
      " 0   CORPORATE_IDENTIFICATION_NUMBER         object \n",
      " 1   COMPANY_NAME                            object \n",
      " 2   COMPANY_STATUS                          object \n",
      " 3   COMPANY_CLASS                           object \n",
      " 4   COMPANY_CATEGORY                        object \n",
      " 5   COMPANY_SUB_CATEGORY                    object \n",
      " 6   DATE_OF_REGISTRATION                    object \n",
      " 7   REGISTERED_STATE                        object \n",
      " 8   AUTHORIZED_CAP                          float64\n",
      " 9   PAIDUP_CAPITAL                          float64\n",
      " 10  INDUSTRIAL_CLASS                        object \n",
      " 11  PRINCIPAL_BUSINESS_ACTIVITY_AS_PER_CIN  object \n",
      " 12  REGISTERED_OFFICE_ADDRESS               object \n",
      " 13  REGISTRAR_OF_COMPANIES                  object \n",
      " 14  EMAIL_ADDR                              object \n",
      " 15  LATEST_YEAR_ANNUAL_RETURN               object \n",
      " 16  LATEST_YEAR_FINANCIAL_STATEMENT         object \n",
      "dtypes: float64(2), object(15)\n",
      "memory usage: 258.4+ MB\n"
     ]
    }
   ],
   "source": [
    "df.info()"
   ]
  },
  {
   "cell_type": "code",
   "execution_count": 6,
   "id": "9b052694",
   "metadata": {},
   "outputs": [],
   "source": [
    "import seaborn as sns\n",
    "df2 = df.sample(n=10000)\n"
   ]
  },
  {
   "cell_type": "code",
   "execution_count": null,
   "id": "831d16de",
   "metadata": {},
   "outputs": [],
   "source": [
    "sns.lineplot(data=df,y=\"AUTHORIZED_CAP\",x=\"DATE_OF_REGISTRATION\")"
   ]
  },
  {
   "cell_type": "code",
   "execution_count": null,
   "id": "3eadfaae",
   "metadata": {},
   "outputs": [],
   "source": [
    "df.AUTHORIZED_CAP.plot(kind='box')"
   ]
  },
  {
   "cell_type": "code",
   "execution_count": null,
   "id": "3adfe5bd",
   "metadata": {},
   "outputs": [],
   "source": [
    "df.describe()"
   ]
  },
  {
   "cell_type": "markdown",
   "id": "28c148b1",
   "metadata": {},
   "source": [
    "#### From the above description of the data we found out that two column are integer type rest of them currently seems object data type.Lets perform further analysis."
   ]
  },
  {
   "cell_type": "markdown",
   "id": "826767e8",
   "metadata": {},
   "source": [
    "### Counting number of unique data."
   ]
  },
  {
   "cell_type": "code",
   "execution_count": null,
   "id": "51b97528",
   "metadata": {},
   "outputs": [],
   "source": [
    "df.COMPANY_STATUS.value_counts()"
   ]
  },
  {
   "cell_type": "code",
   "execution_count": null,
   "id": "21fef564",
   "metadata": {},
   "outputs": [],
   "source": [
    "ind1=df.COMPANY_STATUS.value_counts().index"
   ]
  },
  {
   "cell_type": "code",
   "execution_count": null,
   "id": "cbda761d",
   "metadata": {},
   "outputs": [],
   "source": [
    "# Checking for status of companies\n",
    "plt.bar(ind1,df.COMPANY_STATUS.value_counts())\n",
    "plt.show()"
   ]
  },
  {
   "cell_type": "markdown",
   "id": "1cc78aed",
   "metadata": {},
   "source": [
    "### It can be seen that there are 1190101 active comapnies.\n",
    "### 688886 Stike Off companies."
   ]
  },
  {
   "cell_type": "code",
   "execution_count": null,
   "id": "608ed851",
   "metadata": {},
   "outputs": [],
   "source": [
    "# Checking for no of Public Private and Individual owners.\n",
    "df.COMPANY_CLASS.value_counts()"
   ]
  },
  {
   "cell_type": "code",
   "execution_count": null,
   "id": "baa116ba",
   "metadata": {},
   "outputs": [],
   "source": [
    "ind2= df.COMPANY_CLASS.value_counts().index"
   ]
  },
  {
   "cell_type": "code",
   "execution_count": null,
   "id": "23fedab1",
   "metadata": {},
   "outputs": [],
   "source": [
    "plt.pie(df.COMPANY_CLASS.value_counts(),labels=ind2)\n",
    "plt.show()"
   ]
  },
  {
   "cell_type": "code",
   "execution_count": null,
   "id": "fab89b5b",
   "metadata": {},
   "outputs": [],
   "source": [
    "#Checking for company categories\n",
    "df.COMPANY_CATEGORY.value_counts()"
   ]
  },
  {
   "cell_type": "code",
   "execution_count": null,
   "id": "9bd530a2",
   "metadata": {},
   "outputs": [],
   "source": [
    "ind3=df.COMPANY_CATEGORY.value_counts().index"
   ]
  },
  {
   "cell_type": "code",
   "execution_count": null,
   "id": "d43deb78",
   "metadata": {},
   "outputs": [],
   "source": [
    "plt.pie(df.COMPANY_CATEGORY.value_counts(),labels=ind3,explode=[0,0.5,0.5])\n",
    "plt.show()"
   ]
  },
  {
   "cell_type": "code",
   "execution_count": null,
   "id": "e628b6da",
   "metadata": {},
   "outputs": [],
   "source": [
    "df.COMPANY_SUB_CATEGORY.value_counts()"
   ]
  },
  {
   "cell_type": "code",
   "execution_count": null,
   "id": "376a3a7b",
   "metadata": {},
   "outputs": [],
   "source": [
    "plt.pie(df.COMPANY_SUB_CATEGORY.value_counts())\n",
    "plt.show()"
   ]
  },
  {
   "cell_type": "code",
   "execution_count": null,
   "id": "738d9dec",
   "metadata": {},
   "outputs": [],
   "source": [
    "df.REGISTERED_STATE.value_counts()"
   ]
  },
  {
   "cell_type": "code",
   "execution_count": null,
   "id": "ee3f9582",
   "metadata": {},
   "outputs": [],
   "source": [
    "ind = df.REGISTERED_STATE.value_counts().index"
   ]
  },
  {
   "cell_type": "code",
   "execution_count": null,
   "id": "7388790f",
   "metadata": {},
   "outputs": [],
   "source": [
    "plt.bar(ind,df.REGISTERED_STATE.value_counts(),color=\"Aqua\")\n",
    "plt.xticks(rotation='vertical')\n",
    "plt.show()\n"
   ]
  },
  {
   "cell_type": "code",
   "execution_count": null,
   "id": "4902c99d",
   "metadata": {},
   "outputs": [],
   "source": [
    "df.INDUSTRIAL_CLASS.value_counts()"
   ]
  },
  {
   "cell_type": "code",
   "execution_count": null,
   "id": "e93bc396",
   "metadata": {},
   "outputs": [],
   "source": [
    "df.PRINCIPAL_BUSINESS_ACTIVITY_AS_PER_CIN.value_counts()"
   ]
  },
  {
   "cell_type": "markdown",
   "id": "577bd39e",
   "metadata": {},
   "source": [
    "### Checking for null values in each column"
   ]
  },
  {
   "cell_type": "code",
   "execution_count": null,
   "id": "d16594af",
   "metadata": {},
   "outputs": [],
   "source": [
    "df.isnull().sum()"
   ]
  },
  {
   "cell_type": "markdown",
   "id": "7effb135",
   "metadata": {},
   "source": [
    "### We can see there are many column with null values.\n",
    "### SInce the column with max number of null values has date type of data we can not fill null values.\n",
    "### So I am storing all the rows with null values in  a new dataframe and dropping from the original."
   ]
  },
  {
   "cell_type": "code",
   "execution_count": null,
   "id": "f86d012d",
   "metadata": {},
   "outputs": [],
   "source": [
    "na_free = df.dropna()\n",
    "only_na = df[~df.index.isin(na_free.index)]"
   ]
  },
  {
   "cell_type": "code",
   "execution_count": null,
   "id": "ebabd2eb",
   "metadata": {},
   "outputs": [],
   "source": [
    "only_na"
   ]
  },
  {
   "cell_type": "code",
   "execution_count": null,
   "id": "273d853b",
   "metadata": {},
   "outputs": [],
   "source": [
    "# Dropping the null values.\n",
    "df.dropna(inplace=True)"
   ]
  },
  {
   "cell_type": "code",
   "execution_count": null,
   "id": "5f23f047",
   "metadata": {},
   "outputs": [],
   "source": [
    "df.shape"
   ]
  },
  {
   "cell_type": "code",
   "execution_count": null,
   "id": "8d5b9971",
   "metadata": {},
   "outputs": [],
   "source": [
    "# Checking for null values again if any.\n",
    "df.isnull().sum()"
   ]
  },
  {
   "cell_type": "code",
   "execution_count": null,
   "id": "9db6c60f",
   "metadata": {},
   "outputs": [],
   "source": [
    "# Converting the DATE_OF_REGISTRATION column datatype which is object to datetime format\n",
    "df[\"DATE_OF_REGISTRATION\"] = df[\"DATE_OF_REGISTRATION\"].apply(pd.to_datetime)"
   ]
  },
  {
   "cell_type": "code",
   "execution_count": null,
   "id": "2c2ed20c",
   "metadata": {},
   "outputs": [],
   "source": []
  },
  {
   "cell_type": "code",
   "execution_count": null,
   "id": "b857b64f",
   "metadata": {},
   "outputs": [],
   "source": [
    "df['REG_YEAR'] = df['DATE_OF_REGISTRATION'].dt.year\n",
    "df['REG_MONTH'] = df['DATE_OF_REGISTRATION'].dt.month"
   ]
  },
  {
   "cell_type": "code",
   "execution_count": null,
   "id": "98716a1c",
   "metadata": {},
   "outputs": [],
   "source": [
    "\n",
    "df[\"COMPANY_CLASS\"] = df[\"COMPANY_CLASS\"].apply(lambda x:\"Solo\" if x == 'Private(One Person Company)' else x)\n",
    "print(df[\"COMPANY_CLASS\"].unique())\n",
    "\n",
    "df[\"REGISTRAR\"] = df[\"REGISTRAR_OF_COMPANIES\"].apply(lambda x:x.split(\"ROC\\xa0\")[-1])\n",
    "print(df[\"REGISTRAR\"].unique())\n",
    "\n",
    "df[\"PRINCIPAL_BUSINESS\"] = df[\"PRINCIPAL_BUSINESS_ACTIVITY_AS_PER_CIN\"].apply(lambda x:x.split(\" \")[0])\n",
    "print(df[\"PRINCIPAL_BUSINESS\"].unique())\n",
    "\n",
    "#Creating bins for REGISTRATION_YEAR\n"
   ]
  },
  {
   "cell_type": "code",
   "execution_count": null,
   "id": "5bcc9ce5",
   "metadata": {},
   "outputs": [],
   "source": [
    "\n",
    "df[\"REG_YEAR_5BIN\"] = df[\"REG_YEAR\"].apply(lambda x:(round(x/5))*5)\n",
    "print(df[\"REG_YEAR_5BIN\"].unique())\n",
    "\n",
    "df[\"REG_YEAR_10BIN\"] = df[\"REG_YEAR\"].apply(lambda x:(round(x/10))*10)\n",
    "print(df[\"REG_YEAR_10BIN\"].unique())\n",
    "      \n",
    "df[\"REG_YEAR_20BIN\"] = df[\"REG_YEAR\"].apply(lambda x:(round(x/20))*20)\n",
    "print(df[\"REG_YEAR_20BIN\"].unique())"
   ]
  },
  {
   "cell_type": "code",
   "execution_count": null,
   "id": "2d7254b2",
   "metadata": {},
   "outputs": [],
   "source": [
    "import seaborn as sns"
   ]
  },
  {
   "cell_type": "code",
   "execution_count": null,
   "id": "bbdbbb3e",
   "metadata": {},
   "outputs": [],
   "source": [
    "sns.set_theme(context='notebook',\n",
    "              style='darkgrid',\n",
    "              palette='magma',\n",
    "              font='sans-serif',\n",
    "              font_scale=0.6,\n",
    "              color_codes=True,\n",
    "              rc=None)"
   ]
  },
  {
   "cell_type": "code",
   "execution_count": null,
   "id": "93e9b46f",
   "metadata": {},
   "outputs": [],
   "source": [
    "f, ax = plt.subplots(2)\n",
    "\n",
    "#Counting all the number fo companies by REG_YEAR\n",
    "\n",
    "sns.countplot(x=\"REG_YEAR_5BIN\",\n",
    "              data=df, ax = ax[0])\n",
    "\n",
    "\n",
    "#Year of registration by COMPANY_CLASS\n",
    "\n",
    "sns.stripplot(x=\"REG_YEAR\",\n",
    "              y=\"COMPANY_CLASS\",\n",
    "              data=df, jitter=0.5,\n",
    "              ax = ax[1])"
   ]
  },
  {
   "cell_type": "code",
   "execution_count": null,
   "id": "1b947348",
   "metadata": {},
   "outputs": [],
   "source": [
    "plt.figure(figsize=(20,30))\n",
    "f, ax = plt.subplots(1, len(df[\"COMPANY_CLASS\"].unique()))\n",
    "f.tight_layout()\n",
    "y=0\n",
    "print(df[\"COMPANY_CLASS\"].unique())\n",
    "for x in df[\"COMPANY_CLASS\"].unique():\n",
    "    sns.histplot(x=\"REG_YEAR\",\n",
    "                data=df[df[\"COMPANY_CLASS\"]==x],\n",
    "                ax=ax[y])\n",
    "    y+=1"
   ]
  },
  {
   "cell_type": "code",
   "execution_count": null,
   "id": "8ae30a1c",
   "metadata": {},
   "outputs": [],
   "source": [
    "sns.countplot(x=\"COMPANY_CLASS\",\n",
    "              data=df[df[\"REG_YEAR\"] >= 1982]) #Change year"
   ]
  },
  {
   "cell_type": "code",
   "execution_count": null,
   "id": "e0c03a75",
   "metadata": {},
   "outputs": [],
   "source": [
    "#Industry of companies\n",
    "\n",
    "sns.stripplot(x=\"REG_YEAR\",\n",
    "              y=\"PRINCIPAL_BUSINESS\",\n",
    "              hue=\"COMPANY_CLASS\",\n",
    "              data=df, jitter=0.2)"
   ]
  },
  {
   "cell_type": "code",
   "execution_count": null,
   "id": "3c49e89b",
   "metadata": {},
   "outputs": [],
   "source": [
    "#Companies in respect to COMPANY_CLASS over time.\n",
    "y=0\n",
    "f, ax = plt.subplots(len(df[\"COMPANY_CLASS\"].unique()),1)\n",
    "f.subplots_adjust(top=1, bottom=-0.9, left=-0.9, hspace=0.2)\n",
    "print(df[\"COMPANY_CLASS\"].unique())\n",
    "for x in df[\"COMPANY_CLASS\"].unique():\n",
    "    sns.stripplot(y=\"REG_YEAR\",\n",
    "                x=\"PRINCIPAL_BUSINESS\",\n",
    "                data=df[df[\"COMPANY_CLASS\"]==x],\n",
    "                hue=\"REG_YEAR_10BIN\",\n",
    "                palette=\"magma_r\",\n",
    "                jitter=0.4,\n",
    "                ax=ax[y])\n",
    "    y+=1"
   ]
  },
  {
   "cell_type": "code",
   "execution_count": null,
   "id": "2c08130a",
   "metadata": {},
   "outputs": [],
   "source": [
    " sns.lineplot(data=)"
   ]
  }
 ],
 "metadata": {
  "kernelspec": {
   "display_name": "Python 3 (ipykernel)",
   "language": "python",
   "name": "python3"
  },
  "language_info": {
   "codemirror_mode": {
    "name": "ipython",
    "version": 3
   },
   "file_extension": ".py",
   "mimetype": "text/x-python",
   "name": "python",
   "nbconvert_exporter": "python",
   "pygments_lexer": "ipython3",
   "version": "3.9.7"
  }
 },
 "nbformat": 4,
 "nbformat_minor": 5
}
